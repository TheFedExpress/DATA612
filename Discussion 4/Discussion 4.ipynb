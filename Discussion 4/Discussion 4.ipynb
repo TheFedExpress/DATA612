{
 "cells": [
  {
   "cell_type": "markdown",
   "metadata": {},
   "source": [
    "Not all recommenders are created equal in regard to the radicalizing problem.  A vanilla collaborative filtering algorithm does not seem as harmful as a recommender with a time series element, such as YouTube’s.  With standard collaborative filtering, the extreme content won't necessarily rise to the top unless it is the most popular, and by definition, if fringe content has a substantial amount clicks it is no longer fringe.  Misinformation and inflammatory recommendations can still appear, but it shouldn't be the norm as it is on YouTube.  Sequencing recommendations to maximize clicks and sort of leading the user up the ladder of extremism is the practice that must be dealt with.\n",
    "\n",
    "When companies do not bear the negative impact of their operations, it makes the population worse as a whole. They receive all the benefit, selling their good, while none of the cost.  The classic example is industrial revolution-era manufacturing companies and their pollution.  The pollution, in this case, is known as a negative externality.  Extreme content is the negative externality of recommender systems, such as YouTube, and the harms it causes are misinformation and political polarization.  \n",
    "\n",
    "The simplest and most effective method of dealing with negative externalities has historically been government intervention.  It wasn't until the government started regulating pollution that companies took measures to change their manufacturing processes.  A tax on objectionable content could be an effective solution.  This would force YouTube to consider the tax and therefore rank the radicalizing videos in a manner that is more in line with public interest.  The amount of the tax could be determined in a couple different fashions: \n",
    "\n",
    "1. Give the company a cap the freqency with which the problematic content appears and tax them if over.  \n",
    "2. Impose a tax for each instance the content appears in a recommendation list\n",
    "\n",
    "The first tax could be enforced by using the same strategies researchers have used to crawl videos to determine how frequently the harmful content is recommended.  The other tax would be more difficult to enforce and would require a complete history of recommended content.\n",
    "\n",
    "Radicalizing content is difficult to define, and it is difficult to put a price on its negative impact.  It could take years, possibly decades, for such legislation on policing recommender systems to be passed.  Much like pollution, it's not going to be solved overnight.\n",
    "\n",
    "https://www.investopedia.com/ask/answers/051515/how-do-externalities-affect-equilibrium-and-create-market-failure.asp"
   ]
  },
  {
   "cell_type": "code",
   "execution_count": null,
   "metadata": {},
   "outputs": [],
   "source": []
  }
 ],
 "metadata": {
  "kernelspec": {
   "display_name": "Python 3",
   "language": "python",
   "name": "python3"
  },
  "language_info": {
   "codemirror_mode": {
    "name": "ipython",
    "version": 3
   },
   "file_extension": ".py",
   "mimetype": "text/x-python",
   "name": "python",
   "nbconvert_exporter": "python",
   "pygments_lexer": "ipython3",
   "version": "3.6.4"
  }
 },
 "nbformat": 4,
 "nbformat_minor": 2
}
