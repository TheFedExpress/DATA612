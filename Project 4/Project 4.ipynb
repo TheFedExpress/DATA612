{
 "cells": [
  {
   "cell_type": "code",
   "execution_count": 13,
   "metadata": {},
   "outputs": [],
   "source": [
    "import pandas as pd\n",
    "import numpy as np\n",
    "import re\n",
    "from sklearn.metrics.pairwise import cosine_similarity\n",
    "from sklearn.model_selection import train_test_split\n",
    "\n",
    "from surprise.model_selection import cross_validate\n",
    "from surprise import Reader\n",
    "from surprise import Dataset\n",
    "from surprise.model_selection import GridSearchCV\n",
    "from surprise.prediction_algorithms.matrix_factorization import SVDpp, SVD\n",
    "from surprise.prediction_algorithms.knns import KNNBaseline\n",
    "from lenskit import crossfold as xf\n",
    "import implicit\n",
    "from scipy.sparse import coo_matrix\n",
    "import datadotworld as dw\n",
    "import random\n",
    "random.seed(7)"
   ]
  },
  {
   "cell_type": "markdown",
   "metadata": {},
   "source": [
    "## Project 4 Recommender System Evaluations"
   ]
  },
  {
   "cell_type": "markdown",
   "metadata": {},
   "source": [
    "### Load Data\n",
    "\n",
    "For this project, we'll use the famous movieLens dataset.  Out of the 5 tables in the dataset, we'll use 2.  The first table contains about 100,000 movie ratings sampled from 610 users.  The second relvent table contains a score vector related to the content of each movie.  This score vector was created using a combination of user-defined tags and text data.  Each dimension in the vector represents one of over 1128 latent features. "
   ]
  },
  {
   "cell_type": "code",
   "execution_count": 14,
   "metadata": {},
   "outputs": [],
   "source": [
    "lds =dw.load_dataset('https://data.world/pgoodridge2007/genome-movies')\n",
    "scores = lds.dataframes['genome_scores']\n",
    "scores.columns = ['item', 'tagId', 'relevance']\n",
    "ratings = pd.read_csv('https://raw.githubusercontent.com/TheFedExpress/DATA612/master/Project%204/ratings.csv', skiprows = 1, \n",
    "                      names = ['user', 'item', 'rating', 'timestamp'])\n",
    "movies = pd.read_csv('https://raw.githubusercontent.com/TheFedExpress/DATA612/master/Project%204/movies.csv', \n",
    "                     skiprows = 1, names = ['item', 'title', 'tags'])\n",
    "\n",
    "movies_score = movies.merge(scores, on = 'item',  how = 'inner')\n",
    "all_movies = set(movies_score.item.values)\n",
    "ratings_sub = ratings.loc[ratings.item.isin(all_movies)]"
   ]
  },
  {
   "cell_type": "markdown",
   "metadata": {},
   "source": [
    "## Helper Functions for Evaluation\n",
    "\n",
    "We'll want to define custom functions for two reasons.  First, we'll be using the lensKit library to perform crossvalidation split by user.  Additionally, some of our measures won't match the standard confusion matrix based measures defined in sklearn.  "
   ]
  },
  {
   "cell_type": "markdown",
   "metadata": {},
   "source": [
    "### Confusion Matrix\n",
    "\n",
    "We define two functions to prepare predicted and actual values for a confusion matrix.  One is for ordinal feedback and the other is for binary feedback.\n",
    "\n",
    "In the context of recommender systems the following defintions are used:\n",
    "\n",
    "- True positives: Recommended items that were consumed by the user (at least 3.5 stars)\n",
    "- False positives: Recommended items that were not consumed by the user\n",
    "- False negatives: Items consumed by the user (at least 3.5 stars) that were not recommended\n",
    "- True negatives: Items not consumed by the user that were not recommended\n",
    "\n",
    "For non-binary predictions of rating, the requirement in parenthesis must be fulfilled to count as relevent."
   ]
  },
  {
   "cell_type": "code",
   "execution_count": 15,
   "metadata": {},
   "outputs": [],
   "source": [
    "def decision(df):\n",
    "    if df['rating'] < 3.5 and np.isnan(df['Predicted Rating']) == 1:\n",
    "        return 'tn'\n",
    "    elif df['rating'] >= 3.5 and np.isnan(df['Predicted Rating']) == 1:\n",
    "        return 'fn'\n",
    "    elif df['rating'] < 3.5 and np.isnan(df['Predicted Rating']) == 0:\n",
    "        return 'fp'\n",
    "    elif np.isnan(df['rating']) == 1 and np.isnan(df['Predicted Rating']) == 0:\n",
    "        return 'fp'\n",
    "    elif df['rating'] >= 3.5 and np.isnan(df['Predicted Rating']) == 0:\n",
    "        return 'tp'\n",
    "    \n",
    "def decision_binary(df):\n",
    "    if np.isnan(df['rating']) == 1 and np.isnan(df['Predicted Rating']) == 1:\n",
    "        return 'tn'\n",
    "    elif np.isnan(df['rating']) == 0 and np.isnan(df['Predicted Rating']) == 1:\n",
    "        return 'fn'\n",
    "    elif np.isnan(df['rating']) == 1 and np.isnan(df['Predicted Rating']) == 0:\n",
    "        return 'fp'\n",
    "    elif np.isnan(df['rating']) == 0 and np.isnan(df['Predicted Rating']) == 0:\n",
    "        return 'tp'\n"
   ]
  },
  {
   "cell_type": "markdown",
   "metadata": {},
   "source": [
    "### Calclulations"
   ]
  },
  {
   "cell_type": "code",
   "execution_count": 16,
   "metadata": {},
   "outputs": [],
   "source": [
    "def sq_error(df):\n",
    "    return (df['rating'] - df['Predicted Rating']) **2\n",
    "\n",
    "def rmse(df):\n",
    "    return (df.error.mean()) **.5\n",
    "    \n",
    "    \n",
    "def metrics(df):\n",
    "    confusion = df.groupby('truth').size()\n",
    "    precision = confusion.tp/(confusion.tp + confusion.fp)\n",
    "    recall = confusion.tp/(confusion.tp + confusion.fn)\n",
    "    return confusion, precision, recall"
   ]
  },
  {
   "cell_type": "markdown",
   "metadata": {},
   "source": [
    "### Peformance Measures\n",
    "\n",
    "These functions are the core of our custom package.\n",
    "\n",
    "**Metrics at K**: Calculates 3 metrics assuming the recommender returns K recommendations.\n",
    "\n",
    "- Precision: True positives divided by (True positives + False positives)\n",
    "- Recall: True positives divided by (True positives + False Negatives)\n",
    "- Coverage: Count of distinct items recommended to all users divided by total distinct items.  This is the simplest KPI for diversity\n",
    "\n",
    "These 3 metrics are shown at different levels of K using the \"precision_recall\" function.  In the plot of precision vs recall, we'd like to see a concave up pattern.  Precision deteriorates at a slower rate than recall increases."
   ]
  },
  {
   "cell_type": "code",
   "execution_count": 17,
   "metadata": {},
   "outputs": [],
   "source": [
    "def get_svd_recs(predictions, k):\n",
    "    \n",
    "    return predictions.groupby('user').apply(lambda x: x.nlargest(k, columns = 'Predicted Rating'))\n",
    "\n",
    "def metrics_at_k(predictions, train_sets, test_sets, k, cv_splits, is_binary = False):\n",
    "    precs, recs, covs = [], [], []\n",
    "    for i in range(cv_splits):\n",
    "        all_recs = get_svd_recs(predictions[i], k)\n",
    "        test_set = test_sets[i].copy()\n",
    "        test_set.set_index(['item', 'user'], inplace = True)\n",
    "        recs_eval = (all_recs.set_index(['item', 'user'])\n",
    "            .join(test_set, how = 'outer')        \n",
    "        )\n",
    "        if is_binary == False:\n",
    "            recs_eval['truth'] = recs_eval.apply(decision, axis = 1)\n",
    "        else:\n",
    "            recs_eval['truth'] = recs_eval.apply(decision_binary, axis = 1)\n",
    "        _ , precision, recall = metrics(recs_eval)\n",
    "        recs.append(recall)\n",
    "        precs.append(precision)\n",
    "        \n",
    "        train_set = train_sets[i]\n",
    "        coverage = len(set(all_recs.item))/len(set(train_set.item))\n",
    "        covs.append(coverage)\n",
    "        \n",
    "    precicsion_mean = sum(precs)/cv_splits\n",
    "    recall_mean = sum(recs)/cv_splits\n",
    "    coverage_mean = sum(covs)/cv_splits\n",
    "    summary_df = pd.DataFrame({'K': [k], 'Precision': ['{:.3f}'.format(precicsion_mean)],\n",
    "                               'Recall': ['{:.3f}'.format(recall_mean)],\n",
    "                               'Item Coverage': ['{:.3f}'.format(coverage_mean)]\n",
    "    })\n",
    "    return summary_df\n",
    "\n",
    "def precision_recall(predictions, train_sets, test_sets, cv_splits, is_binary = False):\n",
    "    dfs = []\n",
    "    for i in range(10,90, 10):\n",
    "        dfs.append(metrics_at_k(predictions, train_sets, test_sets, i, cv_splits, is_binary))\n",
    "    df = pd.concat(dfs)\n",
    "    df = df.astype({'Precision': 'float64', 'Recall': 'float64', 'Item Coverage': 'float64'})\n",
    "\n",
    "    df.plot(kind = 'line', x = 'Recall', y = 'Precision',\n",
    "        title = 'Precision vs Recall')\n",
    "    return df\n",
    "    \n",
    "def standard_rmse(predictions, cv_splits, test_sets):\n",
    "    rmses = []\n",
    "    for i in range(cv_splits):\n",
    "        all_recs = predictions[i].copy()\n",
    "        test = test_sets[i].copy()\n",
    "        test.set_index(['item', 'user'], inplace = True)\n",
    "        recs_eval = (all_recs.set_index(['item', 'user'])\n",
    "            .join(test, how = 'inner')        \n",
    "        )\n",
    "        recs_eval['error'] = recs_eval.apply(sq_error, axis = 1)\n",
    "        rmse_split = rmse(recs_eval)\n",
    "        rmses.append(rmse_split)\n",
    "    rmse_mean = sum(rmses)/cv_splits\n",
    "    summary_df = pd.DataFrame({'RMSE': ['{:.3f}'.format(rmse_mean)]})\n",
    "    return summary_df"
   ]
  },
  {
   "cell_type": "markdown",
   "metadata": {},
   "source": [
    "## Model Evaluations"
   ]
  },
  {
   "cell_type": "markdown",
   "metadata": {},
   "source": [
    "### Nearest Neighbor Model"
   ]
  },
  {
   "cell_type": "code",
   "execution_count": 32,
   "metadata": {},
   "outputs": [
    {
     "name": "stdout",
     "output_type": "stream",
     "text": [
      "Estimating biases using als...\n",
      "Computing the pearson_baseline similarity matrix...\n",
      "Done computing similarity matrix.\n",
      "Estimating biases using als...\n",
      "Computing the pearson_baseline similarity matrix...\n",
      "Done computing similarity matrix.\n"
     ]
    }
   ],
   "source": [
    "pred_splits_nn = []\n",
    "test_sets_nn = []\n",
    "train_sets_nn = []\n",
    "for train, test in xf.partition_users(ratings_sub[['user', 'item', 'rating']], 2, xf.SampleFrac(0.2)):\n",
    "    reader = Reader(rating_scale=(.5, 5))\n",
    "    movies_data = Dataset.load_from_df(train.iloc[:, :3], reader)\n",
    "    trainset = movies_data.build_full_trainset()\n",
    "    testset = trainset.build_anti_testset()\n",
    "    best_knn = KNNBaseline(k = 30, sim_options = {'name': 'pearson_baseline', 'user_based': False})\n",
    "    best_knn.fit(trainset)\n",
    "    predictions = (pd.DataFrame(best_knn.test(testset), columns = ['user', 'item', 'act_rating', 'Predicted Rating', 'details'])\n",
    "        .drop(columns = ['act_rating', 'details'])\n",
    "    )    \n",
    "    pred_splits_nn.append(predictions)\n",
    "    test_sets_nn.append(test)\n",
    "    train_sets_nn.append(train)"
   ]
  },
  {
   "cell_type": "code",
   "execution_count": 20,
   "metadata": {},
   "outputs": [
    {
     "data": {
      "text/html": [
       "<div>\n",
       "<style scoped>\n",
       "    .dataframe tbody tr th:only-of-type {\n",
       "        vertical-align: middle;\n",
       "    }\n",
       "\n",
       "    .dataframe tbody tr th {\n",
       "        vertical-align: top;\n",
       "    }\n",
       "\n",
       "    .dataframe thead th {\n",
       "        text-align: right;\n",
       "    }\n",
       "</style>\n",
       "<table border=\"1\" class=\"dataframe\">\n",
       "  <thead>\n",
       "    <tr style=\"text-align: right;\">\n",
       "      <th></th>\n",
       "      <th>RMSE</th>\n",
       "    </tr>\n",
       "  </thead>\n",
       "  <tbody>\n",
       "    <tr>\n",
       "      <th>0</th>\n",
       "      <td>0.843</td>\n",
       "    </tr>\n",
       "  </tbody>\n",
       "</table>\n",
       "</div>"
      ],
      "text/plain": [
       "    RMSE\n",
       "0  0.843"
      ]
     },
     "execution_count": 20,
     "metadata": {},
     "output_type": "execute_result"
    }
   ],
   "source": [
    "standard_rmse(pred_splits_nn, 2, test_sets_nn)"
   ]
  },
  {
   "cell_type": "code",
   "execution_count": 33,
   "metadata": {},
   "outputs": [
    {
     "data": {
      "text/html": [
       "<div>\n",
       "<style scoped>\n",
       "    .dataframe tbody tr th:only-of-type {\n",
       "        vertical-align: middle;\n",
       "    }\n",
       "\n",
       "    .dataframe tbody tr th {\n",
       "        vertical-align: top;\n",
       "    }\n",
       "\n",
       "    .dataframe thead th {\n",
       "        text-align: right;\n",
       "    }\n",
       "</style>\n",
       "<table border=\"1\" class=\"dataframe\">\n",
       "  <thead>\n",
       "    <tr style=\"text-align: right;\">\n",
       "      <th></th>\n",
       "      <th>K</th>\n",
       "      <th>Precision</th>\n",
       "      <th>Recall</th>\n",
       "      <th>Item Coverage</th>\n",
       "    </tr>\n",
       "  </thead>\n",
       "  <tbody>\n",
       "    <tr>\n",
       "      <th>0</th>\n",
       "      <td>10</td>\n",
       "      <td>0.016</td>\n",
       "      <td>0.016</td>\n",
       "      <td>0.194</td>\n",
       "    </tr>\n",
       "    <tr>\n",
       "      <th>0</th>\n",
       "      <td>20</td>\n",
       "      <td>0.017</td>\n",
       "      <td>0.034</td>\n",
       "      <td>0.271</td>\n",
       "    </tr>\n",
       "    <tr>\n",
       "      <th>0</th>\n",
       "      <td>30</td>\n",
       "      <td>0.016</td>\n",
       "      <td>0.049</td>\n",
       "      <td>0.326</td>\n",
       "    </tr>\n",
       "    <tr>\n",
       "      <th>0</th>\n",
       "      <td>40</td>\n",
       "      <td>0.016</td>\n",
       "      <td>0.064</td>\n",
       "      <td>0.364</td>\n",
       "    </tr>\n",
       "    <tr>\n",
       "      <th>0</th>\n",
       "      <td>50</td>\n",
       "      <td>0.015</td>\n",
       "      <td>0.076</td>\n",
       "      <td>0.398</td>\n",
       "    </tr>\n",
       "    <tr>\n",
       "      <th>0</th>\n",
       "      <td>60</td>\n",
       "      <td>0.014</td>\n",
       "      <td>0.089</td>\n",
       "      <td>0.425</td>\n",
       "    </tr>\n",
       "    <tr>\n",
       "      <th>0</th>\n",
       "      <td>70</td>\n",
       "      <td>0.014</td>\n",
       "      <td>0.101</td>\n",
       "      <td>0.450</td>\n",
       "    </tr>\n",
       "    <tr>\n",
       "      <th>0</th>\n",
       "      <td>80</td>\n",
       "      <td>0.014</td>\n",
       "      <td>0.112</td>\n",
       "      <td>0.470</td>\n",
       "    </tr>\n",
       "  </tbody>\n",
       "</table>\n",
       "</div>"
      ],
      "text/plain": [
       "    K  Precision  Recall  Item Coverage\n",
       "0  10      0.016   0.016          0.194\n",
       "0  20      0.017   0.034          0.271\n",
       "0  30      0.016   0.049          0.326\n",
       "0  40      0.016   0.064          0.364\n",
       "0  50      0.015   0.076          0.398\n",
       "0  60      0.014   0.089          0.425\n",
       "0  70      0.014   0.101          0.450\n",
       "0  80      0.014   0.112          0.470"
      ]
     },
     "execution_count": 33,
     "metadata": {},
     "output_type": "execute_result"
    },
    {
     "data": {
      "image/png": "[encoded data removed]",
      "text/plain": [
       "<matplotlib.figure.Figure at 0x1a6afe10400>"
      ]
     },
     "metadata": {},
     "output_type": "display_data"
    }
   ],
   "source": [
    "precision_recall(pred_splits_nn, train_sets_nn, test_sets_nn, 2)"
   ]
  },
  {
   "cell_type": "markdown",
   "metadata": {},
   "source": [
    "### SVD Model"
   ]
  },
  {
   "cell_type": "code",
   "execution_count": 22,
   "metadata": {},
   "outputs": [],
   "source": [
    "pred_splits = []\n",
    "test_sets = []\n",
    "train_sets = []\n",
    "for train, test in xf.partition_users(ratings_sub[['user', 'item', 'rating']], 2, xf.SampleFrac(0.2)):\n",
    "    reader = Reader(rating_scale=(.5, 5))\n",
    "    movies_data = Dataset.load_from_df(train.iloc[:, :3], reader)\n",
    "    trainset = movies_data.build_full_trainset()\n",
    "    testset = trainset.build_anti_testset()\n",
    "    best_svd = SVD(n_factors = 30, reg_all = .1, n_epochs = 50, lr_all = .001)\n",
    "    best_svd.fit(trainset)\n",
    "    predictions = (pd.DataFrame(best_svd.test(testset), columns = ['user', 'item', 'act_rating', 'Predicted Rating', 'details'])\n",
    "        .drop(columns = ['act_rating', 'details'])\n",
    "    )    \n",
    "    pred_splits.append(predictions)\n",
    "    test_sets.append(test)\n",
    "    train_sets.append(train)"
   ]
  },
  {
   "cell_type": "code",
   "execution_count": 23,
   "metadata": {},
   "outputs": [
    {
     "data": {
      "text/html": [
       "<div>\n",
       "<style scoped>\n",
       "    .dataframe tbody tr th:only-of-type {\n",
       "        vertical-align: middle;\n",
       "    }\n",
       "\n",
       "    .dataframe tbody tr th {\n",
       "        vertical-align: top;\n",
       "    }\n",
       "\n",
       "    .dataframe thead th {\n",
       "        text-align: right;\n",
       "    }\n",
       "</style>\n",
       "<table border=\"1\" class=\"dataframe\">\n",
       "  <thead>\n",
       "    <tr style=\"text-align: right;\">\n",
       "      <th></th>\n",
       "      <th>RMSE</th>\n",
       "    </tr>\n",
       "  </thead>\n",
       "  <tbody>\n",
       "    <tr>\n",
       "      <th>0</th>\n",
       "      <td>0.871</td>\n",
       "    </tr>\n",
       "  </tbody>\n",
       "</table>\n",
       "</div>"
      ],
      "text/plain": [
       "    RMSE\n",
       "0  0.871"
      ]
     },
     "execution_count": 23,
     "metadata": {},
     "output_type": "execute_result"
    }
   ],
   "source": [
    "standard_rmse(pred_splits, 2, test_sets)"
   ]
  },
  {
   "cell_type": "code",
   "execution_count": 24,
   "metadata": {},
   "outputs": [
    {
     "data": {
      "text/html": [
       "<div>\n",
       "<style scoped>\n",
       "    .dataframe tbody tr th:only-of-type {\n",
       "        vertical-align: middle;\n",
       "    }\n",
       "\n",
       "    .dataframe tbody tr th {\n",
       "        vertical-align: top;\n",
       "    }\n",
       "\n",
       "    .dataframe thead th {\n",
       "        text-align: right;\n",
       "    }\n",
       "</style>\n",
       "<table border=\"1\" class=\"dataframe\">\n",
       "  <thead>\n",
       "    <tr style=\"text-align: right;\">\n",
       "      <th></th>\n",
       "      <th>K</th>\n",
       "      <th>Precision</th>\n",
       "      <th>Recall</th>\n",
       "      <th>Item Coverage</th>\n",
       "    </tr>\n",
       "  </thead>\n",
       "  <tbody>\n",
       "    <tr>\n",
       "      <th>0</th>\n",
       "      <td>10</td>\n",
       "      <td>0.038</td>\n",
       "      <td>0.040</td>\n",
       "      <td>0.009</td>\n",
       "    </tr>\n",
       "    <tr>\n",
       "      <th>0</th>\n",
       "      <td>20</td>\n",
       "      <td>0.034</td>\n",
       "      <td>0.071</td>\n",
       "      <td>0.014</td>\n",
       "    </tr>\n",
       "    <tr>\n",
       "      <th>0</th>\n",
       "      <td>30</td>\n",
       "      <td>0.031</td>\n",
       "      <td>0.096</td>\n",
       "      <td>0.018</td>\n",
       "    </tr>\n",
       "    <tr>\n",
       "      <th>0</th>\n",
       "      <td>40</td>\n",
       "      <td>0.028</td>\n",
       "      <td>0.115</td>\n",
       "      <td>0.022</td>\n",
       "    </tr>\n",
       "    <tr>\n",
       "      <th>0</th>\n",
       "      <td>50</td>\n",
       "      <td>0.025</td>\n",
       "      <td>0.132</td>\n",
       "      <td>0.026</td>\n",
       "    </tr>\n",
       "    <tr>\n",
       "      <th>0</th>\n",
       "      <td>60</td>\n",
       "      <td>0.024</td>\n",
       "      <td>0.147</td>\n",
       "      <td>0.030</td>\n",
       "    </tr>\n",
       "    <tr>\n",
       "      <th>0</th>\n",
       "      <td>70</td>\n",
       "      <td>0.022</td>\n",
       "      <td>0.163</td>\n",
       "      <td>0.034</td>\n",
       "    </tr>\n",
       "    <tr>\n",
       "      <th>0</th>\n",
       "      <td>80</td>\n",
       "      <td>0.021</td>\n",
       "      <td>0.175</td>\n",
       "      <td>0.038</td>\n",
       "    </tr>\n",
       "  </tbody>\n",
       "</table>\n",
       "</div>"
      ],
      "text/plain": [
       "    K  Precision  Recall  Item Coverage\n",
       "0  10      0.038   0.040          0.009\n",
       "0  20      0.034   0.071          0.014\n",
       "0  30      0.031   0.096          0.018\n",
       "0  40      0.028   0.115          0.022\n",
       "0  50      0.025   0.132          0.026\n",
       "0  60      0.024   0.147          0.030\n",
       "0  70      0.022   0.163          0.034\n",
       "0  80      0.021   0.175          0.038"
      ]
     },
     "execution_count": 24,
     "metadata": {},
     "output_type": "execute_result"
    },
    {
     "data": {
      "image/png": "[encoded data removed]",
      "text/plain": [
       "<matplotlib.figure.Figure at 0x1a686c69b00>"
      ]
     },
     "metadata": {},
     "output_type": "display_data"
    }
   ],
   "source": [
    "precision_recall(pred_splits, train_sets, test_sets, 2)"
   ]
  },
  {
   "cell_type": "markdown",
   "metadata": {},
   "source": [
    "Because a binary prediction is easier to include in an ensemble, we'll check out the performance when an actual rating of 3.5 or better is not required for a true positive.  This is used as a comparison point for future models.\n",
    "\n",
    "This isn't actually that much of a concession, as an argument could be made that the goal of most recommenders is to predict whether a user will consume the item, regardless of rating.  The user was engaged regardless of whether they gave the content a high rating."
   ]
  },
  {
   "cell_type": "code",
   "execution_count": 25,
   "metadata": {},
   "outputs": [
    {
     "data": {
      "text/html": [
       "<div>\n",
       "<style scoped>\n",
       "    .dataframe tbody tr th:only-of-type {\n",
       "        vertical-align: middle;\n",
       "    }\n",
       "\n",
       "    .dataframe tbody tr th {\n",
       "        vertical-align: top;\n",
       "    }\n",
       "\n",
       "    .dataframe thead th {\n",
       "        text-align: right;\n",
       "    }\n",
       "</style>\n",
       "<table border=\"1\" class=\"dataframe\">\n",
       "  <thead>\n",
       "    <tr style=\"text-align: right;\">\n",
       "      <th></th>\n",
       "      <th>K</th>\n",
       "      <th>Precision</th>\n",
       "      <th>Recall</th>\n",
       "      <th>Item Coverage</th>\n",
       "    </tr>\n",
       "  </thead>\n",
       "  <tbody>\n",
       "    <tr>\n",
       "      <th>0</th>\n",
       "      <td>10</td>\n",
       "      <td>0.044</td>\n",
       "      <td>0.028</td>\n",
       "      <td>0.009</td>\n",
       "    </tr>\n",
       "    <tr>\n",
       "      <th>0</th>\n",
       "      <td>20</td>\n",
       "      <td>0.039</td>\n",
       "      <td>0.050</td>\n",
       "      <td>0.014</td>\n",
       "    </tr>\n",
       "    <tr>\n",
       "      <th>0</th>\n",
       "      <td>30</td>\n",
       "      <td>0.036</td>\n",
       "      <td>0.068</td>\n",
       "      <td>0.018</td>\n",
       "    </tr>\n",
       "    <tr>\n",
       "      <th>0</th>\n",
       "      <td>40</td>\n",
       "      <td>0.032</td>\n",
       "      <td>0.082</td>\n",
       "      <td>0.022</td>\n",
       "    </tr>\n",
       "    <tr>\n",
       "      <th>0</th>\n",
       "      <td>50</td>\n",
       "      <td>0.030</td>\n",
       "      <td>0.094</td>\n",
       "      <td>0.026</td>\n",
       "    </tr>\n",
       "    <tr>\n",
       "      <th>0</th>\n",
       "      <td>60</td>\n",
       "      <td>0.028</td>\n",
       "      <td>0.105</td>\n",
       "      <td>0.030</td>\n",
       "    </tr>\n",
       "    <tr>\n",
       "      <th>0</th>\n",
       "      <td>70</td>\n",
       "      <td>0.026</td>\n",
       "      <td>0.117</td>\n",
       "      <td>0.034</td>\n",
       "    </tr>\n",
       "    <tr>\n",
       "      <th>0</th>\n",
       "      <td>80</td>\n",
       "      <td>0.025</td>\n",
       "      <td>0.127</td>\n",
       "      <td>0.038</td>\n",
       "    </tr>\n",
       "  </tbody>\n",
       "</table>\n",
       "</div>"
      ],
      "text/plain": [
       "    K  Precision  Recall  Item Coverage\n",
       "0  10      0.044   0.028          0.009\n",
       "0  20      0.039   0.050          0.014\n",
       "0  30      0.036   0.068          0.018\n",
       "0  40      0.032   0.082          0.022\n",
       "0  50      0.030   0.094          0.026\n",
       "0  60      0.028   0.105          0.030\n",
       "0  70      0.026   0.117          0.034\n",
       "0  80      0.025   0.127          0.038"
      ]
     },
     "execution_count": 25,
     "metadata": {},
     "output_type": "execute_result"
    },
    {
     "data": {
      "image/png": "[encoded data removed]",
      "text/plain": [
       "<matplotlib.figure.Figure at 0x1a689dfabe0>"
      ]
     },
     "metadata": {},
     "output_type": "display_data"
    }
   ],
   "source": [
    "precision_recall(pred_splits, train_sets, test_sets, 2, is_binary = True)"
   ]
  },
  {
   "cell_type": "markdown",
   "metadata": {},
   "source": [
    "### Evaluation\n",
    "\n",
    "While the RMSEs are similar, the SVD model far outperforms KNN in precision and recall.  This adds credence to the contention that RMSE should not be the target in recommender evaluation.  SVD is also more scalable, as even with this small user-item matrix, the KNN algorithm took around five minutes to run.  KNN has much better coverage, but it's accuracy is too low to consider it.\n",
    "\n",
    "Though precision and recall are not as high as we'd like, the most striking feature of SVD is the coverage.  Less than 2% of all movies are included in recommendations at a K of 30.  "
   ]
  },
  {
   "cell_type": "markdown",
   "metadata": {},
   "source": [
    "### ALS Model\n",
    "\n",
    "For the ALS model, we'll use a binary user-item matrix.  This is a precursor to our mixture model."
   ]
  },
  {
   "cell_type": "code",
   "execution_count": 26,
   "metadata": {},
   "outputs": [
    {
     "name": "stderr",
     "output_type": "stream",
     "text": [
      "WARNING:root:Intel MKL BLAS detected. Its highly recommend to set the environment variable 'export MKL_NUM_THREADS=1' to disable its internal multithreading\n",
      "100%|████████████████████████████████████████████████████████████████████████████████| 20.0/20 [00:01<00:00, 16.31it/s]\n",
      "100%|████████████████████████████████████████████████████████████████████████████████| 20.0/20 [00:01<00:00, 16.62it/s]\n"
     ]
    }
   ],
   "source": [
    "binary_ratings = ratings_sub.copy()\n",
    "binary_ratings.rating = 1\n",
    "\n",
    "pred_splits_als, test_sets_als, train_sets_als = [], [], []\n",
    "k = 100\n",
    "for train, test in xf.partition_users(binary_ratings[['user', 'item', 'rating']], 2, xf.SampleFrac(0.2)):\n",
    "    item_user = coo_matrix((train['rating'].astype(float), \n",
    "                   (train['item'].values, \n",
    "                    train['user'].values)))\n",
    "    user_items = item_user.T.tocsr()\n",
    "    best_als = implicit.als.AlternatingLeastSquares(factors=20, regularization=0.1, iterations=20)\n",
    "    \n",
    "    best_als.fit(item_user)\n",
    "    all_preds = []\n",
    "    for user in set(train['user'].values):\n",
    "        all_preds += zip([user for i in range(k)], best_als.recommend(user, user_items, k))\n",
    "    temp = pd.DataFrame(all_preds, columns = ['user', 'preds'])\n",
    "    temp1 = pd.DataFrame(temp['preds'].to_list())\n",
    "    predictions = pd.concat([temp['user'], temp1], axis = 1)\n",
    "    predictions.columns = ['user', 'item', 'Predicted Rating']   \n",
    "    pred_splits_als.append(predictions)\n",
    "    test_sets_als.append(test)\n",
    "    train_sets_als.append(train)"
   ]
  },
  {
   "cell_type": "code",
   "execution_count": 27,
   "metadata": {},
   "outputs": [
    {
     "data": {
      "text/html": [
       "<div>\n",
       "<style scoped>\n",
       "    .dataframe tbody tr th:only-of-type {\n",
       "        vertical-align: middle;\n",
       "    }\n",
       "\n",
       "    .dataframe tbody tr th {\n",
       "        vertical-align: top;\n",
       "    }\n",
       "\n",
       "    .dataframe thead th {\n",
       "        text-align: right;\n",
       "    }\n",
       "</style>\n",
       "<table border=\"1\" class=\"dataframe\">\n",
       "  <thead>\n",
       "    <tr style=\"text-align: right;\">\n",
       "      <th></th>\n",
       "      <th>K</th>\n",
       "      <th>Precision</th>\n",
       "      <th>Recall</th>\n",
       "      <th>Item Coverage</th>\n",
       "    </tr>\n",
       "  </thead>\n",
       "  <tbody>\n",
       "    <tr>\n",
       "      <th>0</th>\n",
       "      <td>10</td>\n",
       "      <td>0.138</td>\n",
       "      <td>0.087</td>\n",
       "      <td>0.067</td>\n",
       "    </tr>\n",
       "    <tr>\n",
       "      <th>0</th>\n",
       "      <td>20</td>\n",
       "      <td>0.112</td>\n",
       "      <td>0.141</td>\n",
       "      <td>0.100</td>\n",
       "    </tr>\n",
       "    <tr>\n",
       "      <th>0</th>\n",
       "      <td>30</td>\n",
       "      <td>0.097</td>\n",
       "      <td>0.184</td>\n",
       "      <td>0.124</td>\n",
       "    </tr>\n",
       "    <tr>\n",
       "      <th>0</th>\n",
       "      <td>40</td>\n",
       "      <td>0.086</td>\n",
       "      <td>0.218</td>\n",
       "      <td>0.144</td>\n",
       "    </tr>\n",
       "    <tr>\n",
       "      <th>0</th>\n",
       "      <td>50</td>\n",
       "      <td>0.078</td>\n",
       "      <td>0.247</td>\n",
       "      <td>0.163</td>\n",
       "    </tr>\n",
       "    <tr>\n",
       "      <th>0</th>\n",
       "      <td>60</td>\n",
       "      <td>0.072</td>\n",
       "      <td>0.271</td>\n",
       "      <td>0.181</td>\n",
       "    </tr>\n",
       "    <tr>\n",
       "      <th>0</th>\n",
       "      <td>70</td>\n",
       "      <td>0.067</td>\n",
       "      <td>0.295</td>\n",
       "      <td>0.196</td>\n",
       "    </tr>\n",
       "    <tr>\n",
       "      <th>0</th>\n",
       "      <td>80</td>\n",
       "      <td>0.062</td>\n",
       "      <td>0.315</td>\n",
       "      <td>0.209</td>\n",
       "    </tr>\n",
       "  </tbody>\n",
       "</table>\n",
       "</div>"
      ],
      "text/plain": [
       "    K  Precision  Recall  Item Coverage\n",
       "0  10      0.138   0.087          0.067\n",
       "0  20      0.112   0.141          0.100\n",
       "0  30      0.097   0.184          0.124\n",
       "0  40      0.086   0.218          0.144\n",
       "0  50      0.078   0.247          0.163\n",
       "0  60      0.072   0.271          0.181\n",
       "0  70      0.067   0.295          0.196\n",
       "0  80      0.062   0.315          0.209"
      ]
     },
     "execution_count": 27,
     "metadata": {},
     "output_type": "execute_result"
    },
    {
     "data": {
      "image/png": "[encoded data removed]",
      "text/plain": [
       "<matplotlib.figure.Figure at 0x1a689105c88>"
      ]
     },
     "metadata": {},
     "output_type": "display_data"
    }
   ],
   "source": [
    "precision_recall(pred_splits_als, train_sets_als, test_sets_als, 2, is_binary = True)"
   ]
  },
  {
   "cell_type": "markdown",
   "metadata": {},
   "source": [
    "Performance increases considerably over the previous two collaborative filtering algorithms.  This could be because this binary classification was actually train on binary data.  However, the contrast is so stark that I'd want to look at the source code to see if there are problems with the Surprise Library if I were to consider using Surprise in a business setting."
   ]
  },
  {
   "cell_type": "markdown",
   "metadata": {},
   "source": [
    "## Business Objective\n",
    "\n",
    "For this section, we'll assume the following: The business is a movie streaming service.  We have a wide variety of movies in our inventory that are not being presented to users.  We are concerned that our users will grow bored of our platform after being presented with the low variety over and over.\n",
    "\n",
    "Up to this point, the recommenders are only returning a small portion of our movie list.  Even the most accurate recommender, ALS is only showing users about 10% of our total movie inventory at a K of 20."
   ]
  },
  {
   "cell_type": "markdown",
   "metadata": {},
   "source": [
    "### Hybrid Model"
   ]
  },
  {
   "cell_type": "code",
   "execution_count": 28,
   "metadata": {},
   "outputs": [],
   "source": [
    "def mixture(df, mixing = (.6, .4)):\n",
    "    df['Predicted Rating'] = df['pred_1'] * mixing[0] + df['pred_2'] * mixing[1]\n",
    "    return df\n",
    "\n",
    "\n",
    "def get_similarity_rating(sim_df, movie1):\n",
    "        \n",
    "    return sim_df.loc[movie1, sim_df.columns != movie1]\n",
    "        \n",
    "def calc_user(user_id, ratings_df, sim_df):\n",
    "    \n",
    "    dfs = []\n",
    "    temp1 = ratings_df.loc[ratings_df.user == user_id, ['item', 'rating']]\n",
    "    if len(temp1 > 100):\n",
    "        temp1 = ratings_df.loc[ratings_sub.user == user_id, ['item', 'rating']][:100]\n",
    "    for _, movie, _ in temp1.itertuples():\n",
    "        dfs.append(pd.DataFrame(get_similarity_rating(sim_df, movie)))\n",
    "    avg_temp = pd.DataFrame(pd.concat(dfs, axis = 1, join = 'inner').mean(axis = 1))\n",
    "    avg_temp['user'] = user_id\n",
    "    return avg_temp"
   ]
  },
  {
   "cell_type": "code",
   "execution_count": 29,
   "metadata": {},
   "outputs": [
    {
     "name": "stderr",
     "output_type": "stream",
     "text": [
      "100%|████████████████████████████████████████████████████████████████████████████████| 20.0/20 [00:01<00:00, 17.59it/s]\n",
      "100%|████████████████████████████████████████████████████████████████████████████████| 20.0/20 [00:01<00:00, 16.23it/s]\n"
     ]
    }
   ],
   "source": [
    "pred_splits_h = []\n",
    "test_sets_h = []\n",
    "train_sets_h = []\n",
    "k = len(all_movies)\n",
    "for train, test in xf.partition_users(binary_ratings[['user', 'item', 'rating']], 2, xf.SampleFrac(0.2)):\n",
    "    item_user = coo_matrix((train['rating'].astype(float), \n",
    "                   (train['item'].values, \n",
    "                    train['user'].values)))\n",
    "    user_items = item_user.T.tocsr()\n",
    "    best_als = implicit.als.AlternatingLeastSquares(factors=20, regularization=0.1, iterations=20)\n",
    "    \n",
    "    best_als.fit(item_user)\n",
    "    all_preds = []\n",
    "    train_users = set(train['user'].values)\n",
    "    for user in train_users:\n",
    "        all_preds += zip([user for i in range(k)], best_als.recommend(user, user_items, k))\n",
    "    temp = pd.DataFrame(all_preds, columns = ['user', 'preds'])\n",
    "    temp1 = pd.DataFrame(temp['preds'].to_list())\n",
    "    predictions = pd.concat([temp['user'], temp1], axis = 1)\n",
    "    predictions.columns = ['user', 'item', 'pred_1']\n",
    "    predictions.set_index(['item', 'user'], inplace = True)\n",
    "    \n",
    "    movies_sub = movies_score[movies_score.item.isin(set(train['item'].values))]\n",
    "    movies_pivot = (movies_sub.pivot(index = 'item', \n",
    "        columns = 'tagId', values = 'relevance')\n",
    "    )\n",
    "        \n",
    "    content_sim = (pd.DataFrame(cosine_similarity(movies_pivot), \n",
    "        columns = movies_pivot.index, index = movies_pivot.index)\n",
    "    )\n",
    "    \n",
    "    all_ratings = [calc_user(user, train, content_sim) for user in train_users]\n",
    "    final_preds = pd.concat(all_ratings)\n",
    "    final_preds.columns = ['pred_2', 'user']\n",
    "    final_preds.reset_index(inplace = True)\n",
    "    final_preds.set_index(['item', 'user'], inplace = True)\n",
    "    \n",
    "    predictions_mix = (pd.concat([predictions, final_preds], axis = 1, join = 'inner')\n",
    "        .pipe(mixture)\n",
    "        .drop(columns = ['pred_1', 'pred_2'])\n",
    "        .reset_index()\n",
    "    )\n",
    "    \n",
    "    pred_splits_h.append(predictions_mix)\n",
    "    test_sets_h.append(test)\n",
    "    train_sets_h.append(train)\n"
   ]
  },
  {
   "cell_type": "code",
   "execution_count": 30,
   "metadata": {},
   "outputs": [
    {
     "data": {
      "text/html": [
       "<div>\n",
       "<style scoped>\n",
       "    .dataframe tbody tr th:only-of-type {\n",
       "        vertical-align: middle;\n",
       "    }\n",
       "\n",
       "    .dataframe tbody tr th {\n",
       "        vertical-align: top;\n",
       "    }\n",
       "\n",
       "    .dataframe thead th {\n",
       "        text-align: right;\n",
       "    }\n",
       "</style>\n",
       "<table border=\"1\" class=\"dataframe\">\n",
       "  <thead>\n",
       "    <tr style=\"text-align: right;\">\n",
       "      <th></th>\n",
       "      <th>K</th>\n",
       "      <th>Precision</th>\n",
       "      <th>Recall</th>\n",
       "      <th>Item Coverage</th>\n",
       "    </tr>\n",
       "  </thead>\n",
       "  <tbody>\n",
       "    <tr>\n",
       "      <th>0</th>\n",
       "      <td>10</td>\n",
       "      <td>0.141</td>\n",
       "      <td>0.089</td>\n",
       "      <td>0.075</td>\n",
       "    </tr>\n",
       "    <tr>\n",
       "      <th>0</th>\n",
       "      <td>20</td>\n",
       "      <td>0.114</td>\n",
       "      <td>0.144</td>\n",
       "      <td>0.115</td>\n",
       "    </tr>\n",
       "    <tr>\n",
       "      <th>0</th>\n",
       "      <td>30</td>\n",
       "      <td>0.098</td>\n",
       "      <td>0.184</td>\n",
       "      <td>0.149</td>\n",
       "    </tr>\n",
       "    <tr>\n",
       "      <th>0</th>\n",
       "      <td>40</td>\n",
       "      <td>0.087</td>\n",
       "      <td>0.219</td>\n",
       "      <td>0.179</td>\n",
       "    </tr>\n",
       "    <tr>\n",
       "      <th>0</th>\n",
       "      <td>50</td>\n",
       "      <td>0.078</td>\n",
       "      <td>0.247</td>\n",
       "      <td>0.204</td>\n",
       "    </tr>\n",
       "    <tr>\n",
       "      <th>0</th>\n",
       "      <td>60</td>\n",
       "      <td>0.072</td>\n",
       "      <td>0.272</td>\n",
       "      <td>0.226</td>\n",
       "    </tr>\n",
       "    <tr>\n",
       "      <th>0</th>\n",
       "      <td>70</td>\n",
       "      <td>0.067</td>\n",
       "      <td>0.294</td>\n",
       "      <td>0.247</td>\n",
       "    </tr>\n",
       "    <tr>\n",
       "      <th>0</th>\n",
       "      <td>80</td>\n",
       "      <td>0.063</td>\n",
       "      <td>0.315</td>\n",
       "      <td>0.269</td>\n",
       "    </tr>\n",
       "  </tbody>\n",
       "</table>\n",
       "</div>"
      ],
      "text/plain": [
       "    K  Precision  Recall  Item Coverage\n",
       "0  10      0.141   0.089          0.075\n",
       "0  20      0.114   0.144          0.115\n",
       "0  30      0.098   0.184          0.149\n",
       "0  40      0.087   0.219          0.179\n",
       "0  50      0.078   0.247          0.204\n",
       "0  60      0.072   0.272          0.226\n",
       "0  70      0.067   0.294          0.247\n",
       "0  80      0.063   0.315          0.269"
      ]
     },
     "execution_count": 30,
     "metadata": {},
     "output_type": "execute_result"
    },
    {
     "data": {
      "image/png": "[encoded data removed]",
      "text/plain": [
       "<matplotlib.figure.Figure at 0x1a6afe000f0>"
      ]
     },
     "metadata": {},
     "output_type": "display_data"
    }
   ],
   "source": [
    "precision_recall(pred_splits_h, train_sets_h, test_sets_h, 2, is_binary = True)"
   ]
  },
  {
   "cell_type": "markdown",
   "metadata": {},
   "source": [
    "### Evaluation\n",
    "\n",
    "The mixture slightly improves on precision and recall, while managing about a 30% increase in coverage at a K of 30.  Getting 30% more titles in the recommender's mix will prevent boredom and keep users on our platform.  It should also start a virtuous cycle with more movies getting plays, and therefore, being familiar to the ALS side of the recommender. "
   ]
  },
  {
   "cell_type": "markdown",
   "metadata": {},
   "source": [
    "## Online Evaluation\n",
    "\n",
    "For our online evaluation, we'll use measures typically seen in online marketing rather than statistics.  These will determine the business value of the recommender system.\n",
    "\n",
    "**Click-through rate:** The number of clicks on the recommended items divided by the number of times it was shown <br>\n",
    "**Conversion Rate:** The number of times the item was consumed as a result of the recommender divided by the number of times it was shown.\n",
    "\n",
    "Conversion rate can be simulated to some degree with offline experiments.  This is essentially what we are doing when we do cross validation using recommendations against the test data.  However, there was no actual recommendation shown, and therefore, no cause and effect making the link dubious.\n",
    "\n",
    "We could even go further towards the business side and measure the ROI of the recommender.  Labor costs would be somewhat difficult to determine but an estimate would be adequate for a directional number.\n",
    "\n",
    "*To setup an online experiment:* At sign in time, each user could be taken to a different instance of the site with a different recommender depending on which group they assigned to. This group would be remembered across sessions. Since this is a movie streaming service, the user would be customer so we could uniquely identify them with ease."
   ]
  },
  {
   "cell_type": "markdown",
   "metadata": {},
   "source": [
    "Sources:\n",
    "    \n",
    "- https://grouplens.org/datasets/movielens/<br>\n",
    "- “Practical Recommender Systems”, Kim Falk, January 2019<br>\n",
    "- https://implicit.readthedocs.io/en/latest/quickstart.html<br>\n",
    "-https://medium.com/recombee-blog/evaluating-recommender-systems-choosing-the-best-one-for-your-business-c688ab781a35<br>\n",
    "- https://lkpy.readthedocs.io/en/stable/"
   ]
  }
 ],
 "metadata": {
  "kernelspec": {
   "display_name": "Python 3",
   "language": "python",
   "name": "python3"
  },
  "language_info": {
   "codemirror_mode": {
    "name": "ipython",
    "version": 3
   },
   "file_extension": ".py",
   "mimetype": "text/x-python",
   "name": "python",
   "nbconvert_exporter": "python",
   "pygments_lexer": "ipython3",
   "version": "3.6.4"
  }
 },
 "nbformat": 4,
 "nbformat_minor": 2
}
