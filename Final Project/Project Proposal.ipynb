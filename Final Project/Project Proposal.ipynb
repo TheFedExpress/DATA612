{
 "cells": [
  {
   "cell_type": "markdown",
   "metadata": {},
   "source": [
    "## Final Project Proposal\n",
    "\n",
    "### Data\n",
    "\n",
    "I will be using the \"Good Books\" dataset from oringially from Kaggle, now updated on a github repo.  This dataset includes approximately 6 million reviews on 10 thousand books.  It includes book metadata and tags. \n",
    "https://github.com/zygmuntz/goodbooks-10k\n",
    "\n",
    "I plan on supplimenting the data with either:\n",
    "- Plot descriptions scraped from wikipedia.\n",
    "- Outgoing links (essentialy tags) from wikipeida\n",
    "\n",
    "### Modeling\n",
    "\n",
    "I intend to use Spark to perform most of the modelling tasks.  It will be some form of hybrid model and I will consult various books and blogs for inspiration.  The fallback would be to use a mixture hybrid, similar to the one used in project 4.  I will use ALS, along with at least 1 of the following:\n",
    "\n",
    "- SparkLDA\n",
    "- Embeddings on the tags/outgoing links.  There is a recipe in the book \"Deep Learning Cookbook\" by Douwe Osinga (chapter 4).  I'm not sure what Spark has as far as deep learning so this might be done with Keras, with the embeddings copied to Spark\n",
    "\n",
    "I would like to make a front end using either Shiny or Plotly Dash, but this will be subject to change based on the timeframe.\n",
    "\n",
    "### Platform\n",
    "\n",
    "Because R has the more intuitive Spark interface, I plan on using R, though this is subject to change."
   ]
  },
  {
   "cell_type": "code",
   "execution_count": null,
   "metadata": {},
   "outputs": [],
   "source": []
  }
 ],
 "metadata": {
  "kernelspec": {
   "display_name": "Python 3",
   "language": "python",
   "name": "python3"
  },
  "language_info": {
   "codemirror_mode": {
    "name": "ipython",
    "version": 3
   },
   "file_extension": ".py",
   "mimetype": "text/x-python",
   "name": "python",
   "nbconvert_exporter": "python",
   "pygments_lexer": "ipython3",
   "version": "3.6.4"
  }
 },
 "nbformat": 4,
 "nbformat_minor": 2
}
